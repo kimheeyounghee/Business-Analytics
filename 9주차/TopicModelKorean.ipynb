{
 "metadata": {
  "language_info": {
   "codemirror_mode": {
    "name": "ipython",
    "version": 3
   },
   "file_extension": ".py",
   "mimetype": "text/x-python",
   "name": "python",
   "nbconvert_exporter": "python",
   "pygments_lexer": "ipython3",
   "version": "3.8.2-final"
  },
  "orig_nbformat": 2,
  "kernelspec": {
   "name": "python3",
   "display_name": "Python 3"
  }
 },
 "nbformat": 4,
 "nbformat_minor": 2,
 "cells": [
  {
   "source": [
    "## Topic Modeling with Sklearn\n",
    "#### 영화 리뷰 데이터를 이용하여 topic modeling을 학습"
   ],
   "cell_type": "markdown",
   "metadata": {}
  },
  {
   "cell_type": "code",
   "execution_count": 1,
   "metadata": {},
   "outputs": [],
   "source": [
    "import csv\n",
    "text = []\n",
    "y = []\n",
    "\n",
    "with open(\"movie_data_new.csv\", encoding=\"utf-8\") as csvfile:\n",
    "    csvreader = csv.reader(csvfile)\n",
    "    for row in csvreader:\n",
    "        if row and len(row[0]) > 10: # review의 길이가 10자 이상인 경우만\n",
    "            text.append(row[0]) # 영화리뷰를 text 리스트에 추가\n",
    "            y.append(row[2]) # 영화이름을 y에 추가"
   ]
  },
  {
   "cell_type": "code",
   "execution_count": 2,
   "metadata": {},
   "outputs": [
    {
     "output_type": "stream",
     "name": "stdout",
     "text": [
      "리뷰 수: 12445\n영화 이름; {'인피니티 워', '라라랜드', '택시운전사', '신과함께', '코코', '곤지암', '범죄도시'}\n"
     ]
    }
   ],
   "source": [
    "print(\"리뷰 수:\", len(text))\n",
    "print(\"영화 이름;\", set(y))"
   ]
  },
  {
   "cell_type": "code",
   "execution_count": 3,
   "metadata": {},
   "outputs": [
    {
     "output_type": "execute_result",
     "data": {
      "text/plain": [
       "['헐..다 죽었어....나중에 앤트맨 보다가도 깜놀...',\n",
       " '개연성은 무시해라 액션을 즐겨라 스타로드가 이끌어준다 각각의 영웅들을 즐겨라 그리고 단적인 신념이 얼마나 부질없는지 보셔라',\n",
       " '정말 지루할틈없이 넘잘만들었다 역시 대단하다',\n",
       " '마지막에 누구한테 연락한거지? 궁금',\n",
       " '다음 편이 궁굼해지네요^^',\n",
       " '안잼있는사람 있음???????????',\n",
       " '잘 만들었다! 지루할 틈이 없네...',\n",
       " '이제는 지겨워서 못보겠다',\n",
       " '롱턱 타노스의  장갑이 참 맘에 듬.  아이언 맨과 토르 닥터만 생고생하고..  가디언즈 오브 갤럭시 들 때문에  손해가 크다고 봄  들짐승 하고 칡뿌리 같은 캐릭이  재미를 더해줄줄 알았으나  아쉬움 . 분노의 상징 헐크가 겁을 먹다니..로키의 초반 출연뿐이 서운하지만  본 영화에 이어질 내용에 적합하지 않은지 서두에  죽는부분으로 마무리 됨은 심섬한 충격임 .  다음편에 헬라가 다시 나올까?',\n",
       " '와~~~~~진짜 개쪄는 인피니티워!!몇번을 봐도 개지린다.너무잼있다.어벤져스4도 너무 기대된다.빨리 2019년이왔으면 좋겠다.']"
      ]
     },
     "metadata": {},
     "execution_count": 3
    }
   ],
   "source": [
    "text[:10]"
   ]
  },
  {
   "source": [
    "#### 한글 처리를 위해서는 konlpy가 필요"
   ],
   "cell_type": "markdown",
   "metadata": {}
  },
  {
   "cell_type": "code",
   "execution_count": 6,
   "metadata": {},
   "outputs": [],
   "source": [
    "from konlpy.tag import Okt # Twitter 형태소 분석기\n",
    "twitter_tag = Okt()\n",
    "\n",
    "from sklearn.feature_extraction.text import CountVectorizer\n",
    "\n",
    "vec = CountVectorizer(tokenizer=twitter_tag.nouns,\n",
    "decode_error=\"ignore\",\n",
    "max_df=0.5,\n",
    "max_features=1000)\n",
    "review_cv = vec.fit_transform(text)"
   ]
  },
  {
   "cell_type": "code",
   "execution_count": 8,
   "metadata": {},
   "outputs": [
    {
     "output_type": "execute_result",
     "data": {
      "text/plain": [
       "(12445, 1000)"
      ]
     },
     "metadata": {},
     "execution_count": 8
    }
   ],
   "source": [
    "review_cv.shape"
   ]
  },
  {
   "source": [
    "#### sklearn의 LatentDirichletAllocation을 이용하여 topic modeling 수행\n"
   ],
   "cell_type": "markdown",
   "metadata": {}
  },
  {
   "cell_type": "code",
   "execution_count": 9,
   "metadata": {},
   "outputs": [],
   "source": [
    "from sklearn.decomposition import LatentDirichletAllocation\n",
    "\n",
    "lda = LatentDirichletAllocation(n_components=10, # 추출할 topic\n",
    "max_iter=25,\n",
    "topic_word_prior=0.1, doc_topic_prior=1.0,\n",
    "learning_method=\"batch\",\n",
    "n_jobs=-1,\n",
    "random_state=0)"
   ]
  },
  {
   "cell_type": "code",
   "execution_count": 10,
   "metadata": {},
   "outputs": [],
   "source": [
    "review_topics = lda.fit_transform(review_cv)"
   ]
  },
  {
   "cell_type": "code",
   "execution_count": 13,
   "metadata": {},
   "outputs": [
    {
     "output_type": "stream",
     "name": "stdout",
     "text": [
      "topic-word distribution dimension: (10, 1000)\ndocument-topic distribution dimenstion (12445, 10)\n"
     ]
    }
   ],
   "source": [
    "print(\"topic-word distribution dimension:\", lda.components_.shape)\n",
    "print(\"document-topic distribution dimenstion\", review_topics.shape)"
   ]
  },
  {
   "source": [
    "#### topic을 보기 쉽게 출력하는 함수를 작성"
   ],
   "cell_type": "markdown",
   "metadata": {}
  },
  {
   "cell_type": "code",
   "execution_count": 16,
   "metadata": {},
   "outputs": [],
   "source": [
    "def print_top_words(model, feature_names, n_top_words):\n",
    "    for topic_idx, topic in enumerate(model.components_):\n",
    "        print(\"Topic #%d: \" % topic_idx, end='')\n",
    "        print(\", \".join([feature_names[i] for i in topic.argsort()[:-n_top_words - 1:-1]]))\n",
    "    print()"
   ]
  },
  {
   "cell_type": "code",
   "execution_count": 17,
   "metadata": {},
   "outputs": [
    {
     "output_type": "stream",
     "name": "stdout",
     "text": [
      "Topic #0: 좀, 느낌, 감독, 공포영화, 공포, 보기, 감, 소재, 나름, 소리\nTopic #1: 더, 정말, 말, 다시, 음악, 한번, 사랑, 모두, 작품, 인생\nTopic #2: 스토리, 내용, 마블, 부분, 만, 이해, 조금, 영상, 전개, 수준\nTopic #3: 생각, 영화, 것, 수, 듯, 한국, 역시, 신, 대한, 내내\nTopic #4: 그, 광주, 편, 역사, 우리, 가슴, 송강호, 노스, 택시, 다음\nTopic #5: 연기, 배우, 최고, 마동석, 윤계상, 액션, 차태현, 함, 한국영, 연기력\nTopic #6: 사람, 진짜, 그냥, 원작, 때, 안, 뭐, 신파, 거, 하나\nTopic #7: 감동, 눈물, 재미, 마지막, 꼭, 보고, 가족, 처음, 끝, 추천\nTopic #8: 시간, 볼, 내, 왜, 기대, 중간, 또, 나, 별로, 임\nTopic #9: 영화, 점, 이, 돈, 평점, 관객, 중, 눈, 천만, 난\n\n"
     ]
    }
   ],
   "source": [
    "print_top_words(lda, vec.get_feature_names(), 10)"
   ]
  },
  {
   "cell_type": "code",
   "execution_count": 18,
   "metadata": {},
   "outputs": [
    {
     "output_type": "execute_result",
     "data": {
      "text/plain": [
       "['개연', '성은', '무시', '액션', '스타로드', '각각', '영웅', '적', '신념', '얼마나']"
      ]
     },
     "metadata": {},
     "execution_count": 18
    }
   ],
   "source": [
    "# 가독성 높이기\n",
    "\n",
    "twitter_tag.nouns(text[1])"
   ]
  },
  {
   "cell_type": "code",
   "execution_count": 19,
   "metadata": {},
   "outputs": [],
   "source": [
    "def tokenizer(str):\n",
    "    return [token for token in twitter_tag.nouns(str) if len(token) > 1]"
   ]
  },
  {
   "cell_type": "code",
   "execution_count": 20,
   "metadata": {},
   "outputs": [
    {
     "output_type": "execute_result",
     "data": {
      "text/plain": [
       "['개연', '성은', '무시', '액션', '스타로드', '각각', '영웅', '신념', '얼마나']"
      ]
     },
     "metadata": {},
     "execution_count": 20
    }
   ],
   "source": [
    "tokenizer(text[1])"
   ]
  },
  {
   "cell_type": "code",
   "execution_count": 21,
   "metadata": {},
   "outputs": [],
   "source": [
    "#count vector 새로 생성\n",
    "vec = CountVectorizer(tokenizer=tokenizer, decode_error ='ignore', \n",
    "                      max_df=0.5, max_features = 1000) #너무 자주 나타나는 단어는 제외\n",
    "review_cv = vec.fit_transform(text)"
   ]
  },
  {
   "cell_type": "code",
   "execution_count": 22,
   "metadata": {},
   "outputs": [
    {
     "output_type": "stream",
     "name": "stdout",
     "text": [
      "Topic #0: 영화, 공포, 머리, 노력, 때문, 폭력, 이름, 생각, 감동, 체험\nTopic #1: 노스, 영화, 이상, 히어로, 결말, 상영, 지루함, 절대, 시간, 좀더\nTopic #2: 마동석, 윤계상, 연기, 액션, 형사, 존재, 충격, 갑자기, 결말, 시각\nTopic #3: 모두, 제대로, 진심, 누구, 배우, 김향기, 영화, 지금, 고생, 다가\nTopic #4: 개인, 인간, 계속, 오늘, 영화, 세계, 그것, 해도, 사람, 그날\nTopic #5: 영화, 매우, 사람, 어른, 또한, 걱정, 라이언, 결론, 요즘, 각색\nTopic #6: 장면, 한국, 영화, 귀신, 가지, 생각, 헐리우드, 전달, 사진, 연말\nTopic #7: 마블, 완전, 어벤져스, 대사, 시리즈, 인피니티, 줄거리, 오역, 짜증, 시간\nTopic #8: 신파, 차태현, 액션, 눈물, 긴장감, 예상, 영화, 과거, 반드시, 예전\nTopic #9: 보고, 추천, 영화, 가슴, 아들, 강추, 영화관, 가족, 학년, 추석\nTopic #10: 영화, 무슨, 감동, 느낌, 등장, 기대, 정도, 리얼, 피아노, 그냥\nTopic #11: 사랑, 인생, 이야기, 영화, 무엇, 완성, 비교, 도대체, 제목, 아무\nTopic #12: 역시, 아이, 실망, 실화, 코믹, 효과, 영화, 스릴, 수작, 대안\nTopic #13: 사람, 이해, 대한, 마지막, 뭔가, 편이, 토르, 만점, 영화, 이승\nTopic #14: 스토리, 중간, 전개, 극장, 드라마, 전체, 정신, 화면, 짜임새, 연결\nTopic #15: 현실, 주인공, 뮤지컬, 노래, 라면, 볼거리, 남자, 스톤, 시나리오, 이하\nTopic #16: 영상, 내용, 처음, 조선족, 영화, 교훈, 감성, 눈물, 갈수록, 원래\nTopic #17: 공포영화, 캐릭터, 아쉬움, 영화, 다큐, 상황, 누가, 다소, 외국, 타임\nTopic #18: 영화, 이제, 보지, 강철, 댓글, 제일, 인정, 실감, 선택, 주제\nTopic #19: 광주, 택시, 시민, 전두환, 민주화, 운전사, 개연, 운동, 배경, 감사\nTopic #20: 역사, 내내, 국민, 희생, 점수, 영웅, 영화, 분노, 인물, 사실\nTopic #21: 감동, 정말, 영화, 영화로, 재미, 오락, 최고, 언제, 장르, 마블리\nTopic #22: 영화, 생각, 얘기, 오히려, 화가, 경찰, 촬영, 최고, 기법, 이정\nTopic #23: 원작, 하나, 영화, 후반, 정도, 역할, 화보, 잘만, 생각, 변호사\nTopic #24: 재미, 보기, 영화, 만화, 전혀, 반전, 공감, 요소, 무조건, 전부\nTopic #25: 대박, 가장, 범죄, 예고편, 이번, 영화, 도시, 신파극, 차라리, 악당\nTopic #26: 음악, 영화, 연기력, 배우, 모든, 정말, 최고, 마지막, 울음, 통해\nTopic #27: 평점, 영화, 다른, 최고, 간만, 혼자, 올해, 조폭, 명작, 보시\nTopic #28: 영화, 한국영, 웃음, 그래픽, 코드, 만큼, 한편, 남편, 개그, 제작\nTopic #29: 몰입, 영화, 이후, 몰입도, 거의, 영화관, 취향, 연기, 분위기, 수도\nTopic #30: 진짜, 최악, 소리, 영화, 시작, 부모님, 정말, 제발, 그때, 처음\nTopic #31: 기억, 판타지, 영화, 중국, 인상, 자극, 죽음, 박수, 호불호, 평점\nTopic #32: 영화, 우리나라, 발전, 얼마나, 역대, 기도, 기술, 기대, 스포, 그닥\nTopic #33: 우리, 영화, 여운, 의미, 구성, 나라, 다시, 군인, 문화, 거지\nTopic #34: 영화, 한번, 표현, 저승, 연기자, 생각, 눈물, 나중, 막판, 감동\nTopic #35: 감독, 영화, 곤지암, 친구, 일단, 여자, 안보, 전반, 가면, 카메라\nTopic #36: 웹툰, 나름, 엄마, 감정, 영화, 자신, 평가, 동생, 어디, 표정\nTopic #37: 연기, 배우, 조연, 주연, 진짜, 악역, 그게, 점도, 간다, 자기\nTopic #38: 가슴, 진실, 영화, 시대, 눈물, 민주주의, 초딩, 스크린, 지금, 문제\nTopic #39: 관객, 수준, 천만, 연출, 감독, 흥행, 약간, 엔딩, 아픔, 영화\nTopic #40: 초반, 내용, 조금, 영화, 생각, 펑펑, 다만, 슬픔, 눈물, 스케일\nTopic #41: 별로, 그냥, 이영화, 영화, 사실, 정도, 잔인함, 진짜, 기담, 시간\nTopic #42: 작품, 송강호, 소재, 위해, 기자, 대한민국, 유머, 최근, 재판, 추격\nTopic #43: 영화, 아주, 자체, 실제, 순간, 동안, 캐스팅, 사건, 묘사, 부모\nTopic #44: 영화, 억지, 관람, 후회, 집중, 대해, 생각, 가족, 이정재, 더욱\nTopic #45: 감동, 영화, 알바, 중반, 쓰레기, 코코, 때문, 겨울왕국, 살짝, 무서움\nTopic #46: 마음, 가족, 모습, 개봉, 디즈니, 세상, 다시, 영화, 반성, 상상\nTopic #47: 하정우, 김동욱, 지옥, 이유, 어머니, 주지훈, 연기, 아저씨, 최고, 소문\nTopic #48: 느낌, 영화, 기대, 매력, 영화인, 억지로, 편도, 흐름, 감동, 조금\nTopic #49: 부분, 다음, 이건, 시간, 영화, 기분, 출연, 보고, 번역, 킬링타임\n\n"
     ]
    }
   ],
   "source": [
    "#topic modeling 수행\n",
    "lda = LatentDirichletAllocation(n_components = 50, max_iter=25, \n",
    "                                topic_word_prior= 0.1, doc_topic_prior=1.0,\n",
    "                                learning_method='batch',\n",
    "                                n_jobs= -1,\n",
    "                                random_state=0)\n",
    "review_topics = lda.fit_transform(review_cv)\n",
    "print_top_words(lda,vec.get_feature_names(), 10)"
   ]
  },
  {
   "cell_type": "code",
   "execution_count": 24,
   "metadata": {},
   "outputs": [
    {
     "output_type": "stream",
     "name": "stdout",
     "text": [
      "topic-word distribution dimension: (50, 1000)\nCluster label: [3 3 2 3 3 3 3 2 3 3 3 3 3 3 4 2 3 3 3 2 3 3 3 3 3 3 3 3 3 3 3 3 3 3 0 3 3\n 1 3 3 3 3 2 3 3 3 3 2 3 3]\n"
     ]
    }
   ],
   "source": [
    "from sklearn.cluster import KMeans\n",
    "\n",
    "kmeans = KMeans(n_clusters=5)\n",
    "kmeans.fit(lda.components_)\n",
    "\n",
    "print(\"topic-word distribution dimension:\", lda.components_.shape)\n",
    "print(\"Cluster label:\", kmeans.labels_)"
   ]
  },
  {
   "source": [
    "#### T-SNE를 이용하여 각 topic들 간의 관계를 시각화"
   ],
   "cell_type": "markdown",
   "metadata": {}
  },
  {
   "cell_type": "code",
   "execution_count": 26,
   "metadata": {},
   "outputs": [
    {
     "output_type": "stream",
     "name": "stdout",
     "text": [
      "TSNE dimension: (50, 2)\n"
     ]
    },
    {
     "output_type": "execute_result",
     "data": {
      "text/plain": [
       "array([  -6.949179  ,  -53.49401   , -156.57956   ,  -46.939014  ,\n",
       "         56.485733  ,  -29.716232  , -125.482475  ,  136.42862   ,\n",
       "        110.15663   , -117.80809   ,  -10.865295  ,    9.774828  ,\n",
       "         74.02505   ,  -33.142303  ,   83.51573   ,  -87.200676  ,\n",
       "        -92.081924  ,  -84.47544   ,  -19.687847  , -134.00212   ,\n",
       "        122.0648    ,  133.9484    ,  -53.1566    ,   63.531685  ,\n",
       "         28.457357  ,  -16.240503  ,  -59.76433   ,  -49.56166   ,\n",
       "         14.863495  ,  -42.056747  ,  -97.79358   ,   14.14204   ,\n",
       "        -62.900517  ,   79.143585  ,   42.47803   ,   58.135487  ,\n",
       "         82.55377   ,   10.457184  ,   56.48281   ,  -41.110104  ,\n",
       "         22.983059  ,   39.21739   ,   71.76845   ,   -0.75666666,\n",
       "        -12.642868  ,  -33.12661   ,   10.020607  ,  -10.412574  ,\n",
       "         22.035631  ,   42.73961   ], dtype=float32)"
      ]
     },
     "metadata": {},
     "execution_count": 26
    }
   ],
   "source": [
    "from sklearn.manifold import TSNE\n",
    "tsne = TSNE(n_components=2, random_state=42)\n",
    "tsne_review = tsne.fit_transform(lda.components_)\n",
    "print(\"TSNE dimension:\", tsne_review.shape)\n",
    "tsne_review[:,0]"
   ]
  },
  {
   "cell_type": "code",
   "execution_count": 29,
   "metadata": {},
   "outputs": [],
   "source": [
    "%matplotlib inline\n",
    "import matplotlib.pyplot as plt\n",
    "from matplotlib import font_manager, rc\n",
    "font_name = font_manager.FontProperties(fname=\"/System/Library/Fonts/Supplemental/AppleGothic.ttf\").get_name()\n",
    "rc(\"font\", family = font_name)\n",
    "import matplotlib as mpl   \n",
    "\n",
    "mpl.rcParams[\"axes.unicode_minus\"] = False"
   ]
  },
  {
   "cell_type": "code",
   "execution_count": 31,
   "metadata": {},
   "outputs": [
    {
     "output_type": "display_data",
     "data": {
      "text/plain": "<Figure size 432x288 with 1 Axes>",
      "image/svg+xml": "<?xml version=\"1.0\" encoding=\"utf-8\" standalone=\"no\"?>\n<!DOCTYPE svg PUBLIC \"-//W3C//DTD SVG 1.1//EN\"\n  \"http://www.w3.org/Graphics/SVG/1.1/DTD/svg11.dtd\">\n<!-- Created with matplotlib (https://matplotlib.org/) -->\n<svg height=\"248.400938pt\" version=\"1.1\" viewBox=\"0 0 390.679154 248.400938\" width=\"390.679154pt\" xmlns=\"http://www.w3.org/2000/svg\" xmlns:xlink=\"http://www.w3.org/1999/xlink\">\n <metadata>\n  <rdf:RDF xmlns:cc=\"http://creativecommons.org/ns#\" xmlns:dc=\"http://purl.org/dc/elements/1.1/\" xmlns:rdf=\"http://www.w3.org/1999/02/22-rdf-syntax-ns#\">\n   <cc:Work>\n    <dc:type rdf:resource=\"http://purl.org/dc/dcmitype/StillImage\"/>\n    <dc:date>2020-11-08T16:40:46.399388</dc:date>\n    <dc:format>image/svg+xml</dc:format>\n    <dc:creator>\n     <cc:Agent>\n      <dc:title>Matplotlib v3.3.2, https://matplotlib.org/</dc:title>\n     </cc:Agent>\n    </dc:creator>\n   </cc:Work>\n  </rdf:RDF>\n </metadata>\n <defs>\n  <style type=\"text/css\">*{stroke-linecap:butt;stroke-linejoin:round;}</style>\n </defs>\n <g id=\"figure_1\">\n  <g id=\"patch_1\">\n   <path d=\"M -0 248.400938 \nL 390.679154 248.400938 \nL 390.679154 0 \nL -0 0 \nz\n\" style=\"fill:none;\"/>\n  </g>\n  <g id=\"axes_1\">\n   <g id=\"patch_2\">\n    <path d=\"M 39.6 224.64 \nL 374.4 224.64 \nL 374.4 7.2 \nL 39.6 7.2 \nz\n\" style=\"fill:#ffffff;\"/>\n   </g>\n   <g id=\"PathCollection_1\">\n    <defs>\n     <path d=\"M 0 3 \nC 0.795609 3 1.55874 2.683901 2.12132 2.12132 \nC 2.683901 1.55874 3 0.795609 3 0 \nC 3 -0.795609 2.683901 -1.55874 2.12132 -2.12132 \nC 1.55874 -2.683901 0.795609 -3 0 -3 \nC -0.795609 -3 -1.55874 -2.683901 -2.12132 -2.12132 \nC -2.683901 -1.55874 -3 -0.795609 -3 0 \nC -3 0.795609 -2.683901 1.55874 -2.12132 2.12132 \nC -1.55874 2.683901 -0.795609 3 0 3 \nz\n\" id=\"m7788760b78\" style=\"stroke:#1f77b4;\"/>\n    </defs>\n    <g clip-path=\"url(#p3d75a7a40a)\">\n     <use style=\"fill:#1f77b4;stroke:#1f77b4;\" x=\"210.247449\" xlink:href=\"#m7788760b78\" y=\"145.877803\"/>\n     <use style=\"fill:#1f77b4;stroke:#1f77b4;\" x=\"161.898785\" xlink:href=\"#m7788760b78\" y=\"99.024505\"/>\n     <use style=\"fill:#1f77b4;stroke:#1f77b4;\" x=\"54.818182\" xlink:href=\"#m7788760b78\" y=\"123.827744\"/>\n     <use style=\"fill:#1f77b4;stroke:#1f77b4;\" x=\"168.707818\" xlink:href=\"#m7788760b78\" y=\"74.291679\"/>\n     <use style=\"fill:#1f77b4;stroke:#1f77b4;\" x=\"276.140766\" xlink:href=\"#m7788760b78\" y=\"157.961002\"/>\n     <use style=\"fill:#1f77b4;stroke:#1f77b4;\" x=\"186.598065\" xlink:href=\"#m7788760b78\" y=\"114.418147\"/>\n     <use style=\"fill:#1f77b4;stroke:#1f77b4;\" x=\"87.120425\" xlink:href=\"#m7788760b78\" y=\"97.444333\"/>\n     <use style=\"fill:#1f77b4;stroke:#1f77b4;\" x=\"359.181818\" xlink:href=\"#m7788760b78\" y=\"109.36375\"/>\n     <use style=\"fill:#1f77b4;stroke:#1f77b4;\" x=\"331.891666\" xlink:href=\"#m7788760b78\" y=\"173.897577\"/>\n     <use style=\"fill:#1f77b4;stroke:#1f77b4;\" x=\"95.092229\" xlink:href=\"#m7788760b78\" y=\"51.459854\"/>\n     <use style=\"fill:#1f77b4;stroke:#1f77b4;\" x=\"206.179565\" xlink:href=\"#m7788760b78\" y=\"128.147564\"/>\n     <use style=\"fill:#1f77b4;stroke:#1f77b4;\" x=\"227.619591\" xlink:href=\"#m7788760b78\" y=\"196.121411\"/>\n     <use style=\"fill:#1f77b4;stroke:#1f77b4;\" x=\"294.359811\" xlink:href=\"#m7788760b78\" y=\"91.872719\"/>\n     <use style=\"fill:#1f77b4;stroke:#1f77b4;\" x=\"183.039217\" xlink:href=\"#m7788760b78\" y=\"214.756364\"/>\n     <use style=\"fill:#1f77b4;stroke:#1f77b4;\" x=\"304.218305\" xlink:href=\"#m7788760b78\" y=\"111.114684\"/>\n     <use style=\"fill:#1f77b4;stroke:#1f77b4;\" x=\"126.885826\" xlink:href=\"#m7788760b78\" y=\"80.853694\"/>\n     <use style=\"fill:#1f77b4;stroke:#1f77b4;\" x=\"121.815406\" xlink:href=\"#m7788760b78\" y=\"120.069616\"/>\n     <use style=\"fill:#1f77b4;stroke:#1f77b4;\" x=\"129.716677\" xlink:href=\"#m7788760b78\" y=\"155.014209\"/>\n     <use style=\"fill:#1f77b4;stroke:#1f77b4;\" x=\"197.015098\" xlink:href=\"#m7788760b78\" y=\"98.27947\"/>\n     <use style=\"fill:#1f77b4;stroke:#1f77b4;\" x=\"78.270603\" xlink:href=\"#m7788760b78\" y=\"158.348671\"/>\n     <use style=\"fill:#1f77b4;stroke:#1f77b4;\" x=\"344.261329\" xlink:href=\"#m7788760b78\" y=\"140.540456\"/>\n     <use style=\"fill:#1f77b4;stroke:#1f77b4;\" x=\"356.605473\" xlink:href=\"#m7788760b78\" y=\"75.206011\"/>\n     <use style=\"fill:#1f77b4;stroke:#1f77b4;\" x=\"162.249271\" xlink:href=\"#m7788760b78\" y=\"120.180477\"/>\n     <use style=\"fill:#1f77b4;stroke:#1f77b4;\" x=\"283.459781\" xlink:href=\"#m7788760b78\" y=\"193.493875\"/>\n     <use style=\"fill:#1f77b4;stroke:#1f77b4;\" x=\"247.026157\" xlink:href=\"#m7788760b78\" y=\"109.326462\"/>\n     <use style=\"fill:#1f77b4;stroke:#1f77b4;\" x=\"200.596042\" xlink:href=\"#m7788760b78\" y=\"79.307199\"/>\n     <use style=\"fill:#1f77b4;stroke:#1f77b4;\" x=\"155.385459\" xlink:href=\"#m7788760b78\" y=\"49.996888\"/>\n     <use style=\"fill:#1f77b4;stroke:#1f77b4;\" x=\"165.983532\" xlink:href=\"#m7788760b78\" y=\"179.320371\"/>\n     <use style=\"fill:#1f77b4;stroke:#1f77b4;\" x=\"232.905468\" xlink:href=\"#m7788760b78\" y=\"128.285336\"/>\n     <use style=\"fill:#1f77b4;stroke:#1f77b4;\" x=\"173.779296\" xlink:href=\"#m7788760b78\" y=\"154.635207\"/>\n     <use style=\"fill:#1f77b4;stroke:#1f77b4;\" x=\"115.882398\" xlink:href=\"#m7788760b78\" y=\"192.075737\"/>\n     <use style=\"fill:#1f77b4;stroke:#1f77b4;\" x=\"232.156054\" xlink:href=\"#m7788760b78\" y=\"92.912022\"/>\n     <use style=\"fill:#1f77b4;stroke:#1f77b4;\" x=\"152.127732\" xlink:href=\"#m7788760b78\" y=\"137.104563\"/>\n     <use style=\"fill:#1f77b4;stroke:#1f77b4;\" x=\"299.676717\" xlink:href=\"#m7788760b78\" y=\"138.945144\"/>\n     <use style=\"fill:#1f77b4;stroke:#1f77b4;\" x=\"261.590199\" xlink:href=\"#m7788760b78\" y=\"134.649184\"/>\n     <use style=\"fill:#1f77b4;stroke:#1f77b4;\" x=\"277.854455\" xlink:href=\"#m7788760b78\" y=\"98.979701\"/>\n     <use style=\"fill:#1f77b4;stroke:#1f77b4;\" x=\"303.219065\" xlink:href=\"#m7788760b78\" y=\"65.163417\"/>\n     <use style=\"fill:#1f77b4;stroke:#1f77b4;\" x=\"228.328392\" xlink:href=\"#m7788760b78\" y=\"25.720224\"/>\n     <use style=\"fill:#1f77b4;stroke:#1f77b4;\" x=\"276.13773\" xlink:href=\"#m7788760b78\" y=\"116.966424\"/>\n     <use style=\"fill:#1f77b4;stroke:#1f77b4;\" x=\"174.762627\" xlink:href=\"#m7788760b78\" y=\"17.083636\"/>\n     <use style=\"fill:#1f77b4;stroke:#1f77b4;\" x=\"241.339704\" xlink:href=\"#m7788760b78\" y=\"148.598933\"/>\n     <use style=\"fill:#1f77b4;stroke:#1f77b4;\" x=\"258.20319\" xlink:href=\"#m7788760b78\" y=\"56.371524\"/>\n     <use style=\"fill:#1f77b4;stroke:#1f77b4;\" x=\"292.015758\" xlink:href=\"#m7788760b78\" y=\"32.528177\"/>\n     <use style=\"fill:#1f77b4;stroke:#1f77b4;\" x=\"216.679951\" xlink:href=\"#m7788760b78\" y=\"111.881874\"/>\n     <use style=\"fill:#1f77b4;stroke:#1f77b4;\" x=\"204.333103\" xlink:href=\"#m7788760b78\" y=\"166.460239\"/>\n     <use style=\"fill:#1f77b4;stroke:#1f77b4;\" x=\"183.055519\" xlink:href=\"#m7788760b78\" y=\"136.246789\"/>\n     <use style=\"fill:#1f77b4;stroke:#1f77b4;\" x=\"227.874895\" xlink:href=\"#m7788760b78\" y=\"70.278905\"/>\n     <use style=\"fill:#1f77b4;stroke:#1f77b4;\" x=\"206.649832\" xlink:href=\"#m7788760b78\" y=\"51.421224\"/>\n     <use style=\"fill:#1f77b4;stroke:#1f77b4;\" x=\"240.355559\" xlink:href=\"#m7788760b78\" y=\"169.22637\"/>\n     <use style=\"fill:#1f77b4;stroke:#1f77b4;\" x=\"261.861914\" xlink:href=\"#m7788760b78\" y=\"78.751711\"/>\n    </g>\n   </g>\n   <g id=\"matplotlib.axis_1\">\n    <g id=\"xtick_1\">\n     <g id=\"line2d_1\">\n      <defs>\n       <path d=\"M 0 0 \nL 0 3.5 \n\" id=\"m8f85e1845e\" style=\"stroke:#000000;stroke-width:0.8;\"/>\n      </defs>\n      <g>\n       <use style=\"stroke:#000000;stroke-width:0.8;\" x=\"61.65273\" xlink:href=\"#m8f85e1845e\" y=\"224.64\"/>\n      </g>\n     </g>\n     <g id=\"text_1\">\n      <!-- -150 -->\n      <g transform=\"translate(48.95273 239.480625)scale(0.1 -0.1)\">\n       <defs>\n        <path d=\"M 4 30.59375 \nL 36.703125 30.59375 \nL 36.703125 23.296875 \nL 4 23.296875 \nz\n\" id=\"AppleGothic-45\"/>\n        <path d=\"M 36.59375 74.59375 \nL 43 74.59375 \nL 43 0 \nL 35.703125 0 \nL 35.703125 55.09375 \nL 18.09375 55.09375 \nL 18.09375 60.703125 \nL 22.09375 60.703125 \nQ 31.09375 60.703125 34.59375 65.703125 \nQ 36.59375 68.90625 36.59375 74.59375 \nz\n\" id=\"AppleGothic-49\"/>\n        <path d=\"M 9.703125 74.5 \nL 54.5 74.5 \nL 54.5 67.796875 \nL 17 67.796875 \nL 17 42.296875 \nQ 18.5 43.296875 20.203125 44.046875 \nQ 21.90625 44.796875 23.59375 45.5 \nQ 29.09375 47.5 35.296875 47.5 \nQ 46.703125 47.5 53.5 40.703125 \nQ 59.796875 34.40625 59.796875 24.703125 \nQ 59.796875 13.59375 51.5 6.203125 \nQ 43.203125 -1.296875 31.40625 -1.296875 \nQ 25.796875 -1.296875 19.5 0.703125 \nQ 18.09375 1.203125 15.640625 2.140625 \nQ 13.203125 3.09375 9.703125 4.703125 \nL 9.703125 13.09375 \nQ 14.5 10 18.796875 8.203125 \nQ 22 6.796875 25.203125 6.09375 \nQ 28.40625 5.40625 31.40625 5.40625 \nQ 39.5 5.40625 45.40625 10.40625 \nQ 51.90625 15.796875 51.90625 24 \nQ 51.90625 31.09375 47.203125 35.796875 \nQ 42.203125 40.796875 33.5 40.796875 \nQ 29 40.796875 24.796875 39.5 \nQ 20.59375 38.203125 17 35.5 \nL 9.703125 35.5 \nz\n\" id=\"AppleGothic-53\"/>\n        <path d=\"M 34.796875 -1.296875 \nQ 22.09375 -1.296875 14.59375 9 \nQ 7.203125 19.203125 7.203125 37.296875 \nQ 7.203125 55.5 15.203125 65.90625 \nQ 22.703125 75.90625 34.703125 75.90625 \nQ 47.296875 75.90625 54.40625 65.203125 \nQ 61.796875 54.59375 61.796875 37.40625 \nQ 61.796875 19.5 54.09375 9.09375 \nQ 46.5 -1.296875 34.796875 -1.296875 \nz\nM 34 5.40625 \nQ 44.703125 5.40625 50 15.5 \nQ 54.09375 24 54.09375 37.5 \nQ 54.09375 51.796875 49.40625 60.296875 \nQ 44.09375 69.203125 34.59375 69.203125 \nQ 24.59375 69.203125 19.5 59.703125 \nQ 15 51.296875 15 37.09375 \nQ 15 23.09375 19.5 14.703125 \nQ 24.59375 5.40625 34 5.40625 \nz\n\" id=\"AppleGothic-48\"/>\n       </defs>\n       <use xlink:href=\"#AppleGothic-45\"/>\n       <use x=\"49.999985\" xlink:href=\"#AppleGothic-49\"/>\n       <use x=\"117.999969\" xlink:href=\"#AppleGothic-53\"/>\n       <use x=\"185.999954\" xlink:href=\"#AppleGothic-48\"/>\n      </g>\n     </g>\n    </g>\n    <g id=\"xtick_2\">\n     <g id=\"line2d_2\">\n      <g>\n       <use style=\"stroke:#000000;stroke-width:0.8;\" x=\"113.590468\" xlink:href=\"#m8f85e1845e\" y=\"224.64\"/>\n      </g>\n     </g>\n     <g id=\"text_2\">\n      <!-- -100 -->\n      <g transform=\"translate(100.890468 239.480625)scale(0.1 -0.1)\">\n       <use xlink:href=\"#AppleGothic-45\"/>\n       <use x=\"49.999985\" xlink:href=\"#AppleGothic-49\"/>\n       <use x=\"117.999969\" xlink:href=\"#AppleGothic-48\"/>\n       <use x=\"185.999954\" xlink:href=\"#AppleGothic-48\"/>\n      </g>\n     </g>\n    </g>\n    <g id=\"xtick_3\">\n     <g id=\"line2d_3\">\n      <g>\n       <use style=\"stroke:#000000;stroke-width:0.8;\" x=\"165.528205\" xlink:href=\"#m8f85e1845e\" y=\"224.64\"/>\n      </g>\n     </g>\n     <g id=\"text_3\">\n      <!-- -50 -->\n      <g transform=\"translate(156.228205 239.480625)scale(0.1 -0.1)\">\n       <use xlink:href=\"#AppleGothic-45\"/>\n       <use x=\"49.999985\" xlink:href=\"#AppleGothic-53\"/>\n       <use x=\"117.999969\" xlink:href=\"#AppleGothic-48\"/>\n      </g>\n     </g>\n    </g>\n    <g id=\"xtick_4\">\n     <g id=\"line2d_4\">\n      <g>\n       <use style=\"stroke:#000000;stroke-width:0.8;\" x=\"217.465942\" xlink:href=\"#m8f85e1845e\" y=\"224.64\"/>\n      </g>\n     </g>\n     <g id=\"text_4\">\n      <!-- 0 -->\n      <g transform=\"translate(214.065942 239.480625)scale(0.1 -0.1)\">\n       <use xlink:href=\"#AppleGothic-48\"/>\n      </g>\n     </g>\n    </g>\n    <g id=\"xtick_5\">\n     <g id=\"line2d_5\">\n      <g>\n       <use style=\"stroke:#000000;stroke-width:0.8;\" x=\"269.40368\" xlink:href=\"#m8f85e1845e\" y=\"224.64\"/>\n      </g>\n     </g>\n     <g id=\"text_5\">\n      <!-- 50 -->\n      <g transform=\"translate(262.60368 239.480625)scale(0.1 -0.1)\">\n       <use xlink:href=\"#AppleGothic-53\"/>\n       <use x=\"67.999985\" xlink:href=\"#AppleGothic-48\"/>\n      </g>\n     </g>\n    </g>\n    <g id=\"xtick_6\">\n     <g id=\"line2d_6\">\n      <g>\n       <use style=\"stroke:#000000;stroke-width:0.8;\" x=\"321.341417\" xlink:href=\"#m8f85e1845e\" y=\"224.64\"/>\n      </g>\n     </g>\n     <g id=\"text_6\">\n      <!-- 100 -->\n      <g transform=\"translate(311.141417 239.480625)scale(0.1 -0.1)\">\n       <use xlink:href=\"#AppleGothic-49\"/>\n       <use x=\"67.999985\" xlink:href=\"#AppleGothic-48\"/>\n       <use x=\"135.999969\" xlink:href=\"#AppleGothic-48\"/>\n      </g>\n     </g>\n    </g>\n    <g id=\"xtick_7\">\n     <g id=\"line2d_7\">\n      <g>\n       <use style=\"stroke:#000000;stroke-width:0.8;\" x=\"373.279154\" xlink:href=\"#m8f85e1845e\" y=\"224.64\"/>\n      </g>\n     </g>\n     <g id=\"text_7\">\n      <!-- 150 -->\n      <g transform=\"translate(363.079154 239.480625)scale(0.1 -0.1)\">\n       <use xlink:href=\"#AppleGothic-49\"/>\n       <use x=\"67.999985\" xlink:href=\"#AppleGothic-53\"/>\n       <use x=\"135.999969\" xlink:href=\"#AppleGothic-48\"/>\n      </g>\n     </g>\n    </g>\n   </g>\n   <g id=\"matplotlib.axis_2\">\n    <g id=\"ytick_1\">\n     <g id=\"line2d_8\">\n      <defs>\n       <path d=\"M 0 0 \nL -3.5 0 \n\" id=\"me453e16c79\" style=\"stroke:#000000;stroke-width:0.8;\"/>\n      </defs>\n      <g>\n       <use style=\"stroke:#000000;stroke-width:0.8;\" x=\"39.6\" xlink:href=\"#me453e16c79\" y=\"220.318752\"/>\n      </g>\n     </g>\n     <g id=\"text_8\">\n      <!-- -150 -->\n      <g transform=\"translate(7.2 224.239064)scale(0.1 -0.1)\">\n       <use xlink:href=\"#AppleGothic-45\"/>\n       <use x=\"49.999985\" xlink:href=\"#AppleGothic-49\"/>\n       <use x=\"117.999969\" xlink:href=\"#AppleGothic-53\"/>\n       <use x=\"185.999954\" xlink:href=\"#AppleGothic-48\"/>\n      </g>\n     </g>\n    </g>\n    <g id=\"ytick_2\">\n     <g id=\"line2d_9\">\n      <g>\n       <use style=\"stroke:#000000;stroke-width:0.8;\" x=\"39.6\" xlink:href=\"#me453e16c79\" y=\"188.079925\"/>\n      </g>\n     </g>\n     <g id=\"text_9\">\n      <!-- -100 -->\n      <g transform=\"translate(7.2 192.000238)scale(0.1 -0.1)\">\n       <use xlink:href=\"#AppleGothic-45\"/>\n       <use x=\"49.999985\" xlink:href=\"#AppleGothic-49\"/>\n       <use x=\"117.999969\" xlink:href=\"#AppleGothic-48\"/>\n       <use x=\"185.999954\" xlink:href=\"#AppleGothic-48\"/>\n      </g>\n     </g>\n    </g>\n    <g id=\"ytick_3\">\n     <g id=\"line2d_10\">\n      <g>\n       <use style=\"stroke:#000000;stroke-width:0.8;\" x=\"39.6\" xlink:href=\"#me453e16c79\" y=\"155.841099\"/>\n      </g>\n     </g>\n     <g id=\"text_10\">\n      <!-- -50 -->\n      <g transform=\"translate(14 159.761411)scale(0.1 -0.1)\">\n       <use xlink:href=\"#AppleGothic-45\"/>\n       <use x=\"49.999985\" xlink:href=\"#AppleGothic-53\"/>\n       <use x=\"117.999969\" xlink:href=\"#AppleGothic-48\"/>\n      </g>\n     </g>\n    </g>\n    <g id=\"ytick_4\">\n     <g id=\"line2d_11\">\n      <g>\n       <use style=\"stroke:#000000;stroke-width:0.8;\" x=\"39.6\" xlink:href=\"#me453e16c79\" y=\"123.602272\"/>\n      </g>\n     </g>\n     <g id=\"text_11\">\n      <!-- 0 -->\n      <g transform=\"translate(25.8 127.522584)scale(0.1 -0.1)\">\n       <use xlink:href=\"#AppleGothic-48\"/>\n      </g>\n     </g>\n    </g>\n    <g id=\"ytick_5\">\n     <g id=\"line2d_12\">\n      <g>\n       <use style=\"stroke:#000000;stroke-width:0.8;\" x=\"39.6\" xlink:href=\"#me453e16c79\" y=\"91.363445\"/>\n      </g>\n     </g>\n     <g id=\"text_12\">\n      <!-- 50 -->\n      <g transform=\"translate(19 95.283758)scale(0.1 -0.1)\">\n       <use xlink:href=\"#AppleGothic-53\"/>\n       <use x=\"67.999985\" xlink:href=\"#AppleGothic-48\"/>\n      </g>\n     </g>\n    </g>\n    <g id=\"ytick_6\">\n     <g id=\"line2d_13\">\n      <g>\n       <use style=\"stroke:#000000;stroke-width:0.8;\" x=\"39.6\" xlink:href=\"#me453e16c79\" y=\"59.124619\"/>\n      </g>\n     </g>\n     <g id=\"text_13\">\n      <!-- 100 -->\n      <g transform=\"translate(12.2 63.044931)scale(0.1 -0.1)\">\n       <use xlink:href=\"#AppleGothic-49\"/>\n       <use x=\"67.999985\" xlink:href=\"#AppleGothic-48\"/>\n       <use x=\"135.999969\" xlink:href=\"#AppleGothic-48\"/>\n      </g>\n     </g>\n    </g>\n    <g id=\"ytick_7\">\n     <g id=\"line2d_14\">\n      <g>\n       <use style=\"stroke:#000000;stroke-width:0.8;\" x=\"39.6\" xlink:href=\"#me453e16c79\" y=\"26.885792\"/>\n      </g>\n     </g>\n     <g id=\"text_14\">\n      <!-- 150 -->\n      <g transform=\"translate(12.2 30.806105)scale(0.1 -0.1)\">\n       <use xlink:href=\"#AppleGothic-49\"/>\n       <use x=\"67.999985\" xlink:href=\"#AppleGothic-53\"/>\n       <use x=\"135.999969\" xlink:href=\"#AppleGothic-48\"/>\n      </g>\n     </g>\n    </g>\n   </g>\n   <g id=\"patch_3\">\n    <path d=\"M 39.6 224.64 \nL 39.6 7.2 \n\" style=\"fill:none;stroke:#000000;stroke-linecap:square;stroke-linejoin:miter;stroke-width:0.8;\"/>\n   </g>\n   <g id=\"patch_4\">\n    <path d=\"M 374.4 224.64 \nL 374.4 7.2 \n\" style=\"fill:none;stroke:#000000;stroke-linecap:square;stroke-linejoin:miter;stroke-width:0.8;\"/>\n   </g>\n   <g id=\"patch_5\">\n    <path d=\"M 39.6 224.64 \nL 374.4 224.64 \n\" style=\"fill:none;stroke:#000000;stroke-linecap:square;stroke-linejoin:miter;stroke-width:0.8;\"/>\n   </g>\n   <g id=\"patch_6\">\n    <path d=\"M 39.6 7.2 \nL 374.4 7.2 \n\" style=\"fill:none;stroke:#000000;stroke-linecap:square;stroke-linejoin:miter;stroke-width:0.8;\"/>\n   </g>\n  </g>\n </g>\n <defs>\n  <clipPath id=\"p3d75a7a40a\">\n   <rect height=\"217.44\" width=\"334.8\" x=\"39.6\" y=\"7.2\"/>\n  </clipPath>\n </defs>\n</svg>\n",
      "image/png": "[encoded data removed]"
     },
     "metadata": {
      "needs_background": "light"
     }
    },
    {
     "output_type": "display_data",
     "data": {
      "text/plain": "<Figure size 1080x720 with 1 Axes>",
      "image/svg+xml": "<?xml version=\"1.0\" encoding=\"utf-8\" standalone=\"no\"?>\n<!DOCTYPE svg PUBLIC \"-//W3C//DTD SVG 1.1//EN\"\n  \"http://www.w3.org/Graphics/SVG/1.1/DTD/svg11.dtd\">\n<!-- Created with matplotlib (https://matplotlib.org/) -->\n<svg height=\"582.401562pt\" version=\"1.1\" viewBox=\"0 0 890.6 582.401562\" width=\"890.6pt\" xmlns=\"http://www.w3.org/2000/svg\" xmlns:xlink=\"http://www.w3.org/1999/xlink\">\n <metadata>\n  <rdf:RDF xmlns:cc=\"http://creativecommons.org/ns#\" xmlns:dc=\"http://purl.org/dc/elements/1.1/\" xmlns:rdf=\"http://www.w3.org/1999/02/22-rdf-syntax-ns#\">\n   <cc:Work>\n    <dc:type rdf:resource=\"http://purl.org/dc/dcmitype/StillImage\"/>\n    <dc:date>2020-11-08T16:40:46.917227</dc:date>\n    <dc:format>image/svg+xml</dc:format>\n    <dc:creator>\n     <cc:Agent>\n      <dc:title>Matplotlib v3.3.2, https://matplotlib.org/</dc:title>\n     </cc:Agent>\n    </dc:creator>\n   </cc:Work>\n  </rdf:RDF>\n </metadata>\n <defs>\n  <style type=\"text/css\">*{stroke-linecap:butt;stroke-linejoin:round;}</style>\n </defs>\n <g id=\"figure_1\">\n  <g id=\"patch_1\">\n   <path d=\"M -0 582.401562 \nL 890.6 582.401562 \nL 890.6 0 \nL -0 0 \nz\n\" style=\"fill:none;\"/>\n  </g>\n  <g id=\"axes_1\">\n   <g id=\"patch_2\">\n    <path d=\"M 39.6 558.640625 \nL 876.6 558.640625 \nL 876.6 15.040625 \nL 39.6 15.040625 \nz\n\" style=\"fill:#ffffff;\"/>\n   </g>\n   <g id=\"matplotlib.axis_1\">\n    <g id=\"xtick_1\">\n     <g id=\"line2d_1\">\n      <defs>\n       <path d=\"M 0 0 \nL 0 3.5 \n\" id=\"m565e0d2d8b\" style=\"stroke:#000000;stroke-width:0.8;\"/>\n      </defs>\n      <g>\n       <use style=\"stroke:#000000;stroke-width:0.8;\" x=\"58.395008\" xlink:href=\"#m565e0d2d8b\" y=\"558.640625\"/>\n      </g>\n     </g>\n     <g id=\"text_1\">\n      <!-- -150 -->\n      <g transform=\"translate(45.695008 573.48125)scale(0.1 -0.1)\">\n       <defs>\n        <path d=\"M 4 30.59375 \nL 36.703125 30.59375 \nL 36.703125 23.296875 \nL 4 23.296875 \nz\n\" id=\"AppleGothic-45\"/>\n        <path d=\"M 36.59375 74.59375 \nL 43 74.59375 \nL 43 0 \nL 35.703125 0 \nL 35.703125 55.09375 \nL 18.09375 55.09375 \nL 18.09375 60.703125 \nL 22.09375 60.703125 \nQ 31.09375 60.703125 34.59375 65.703125 \nQ 36.59375 68.90625 36.59375 74.59375 \nz\n\" id=\"AppleGothic-49\"/>\n        <path d=\"M 9.703125 74.5 \nL 54.5 74.5 \nL 54.5 67.796875 \nL 17 67.796875 \nL 17 42.296875 \nQ 18.5 43.296875 20.203125 44.046875 \nQ 21.90625 44.796875 23.59375 45.5 \nQ 29.09375 47.5 35.296875 47.5 \nQ 46.703125 47.5 53.5 40.703125 \nQ 59.796875 34.40625 59.796875 24.703125 \nQ 59.796875 13.59375 51.5 6.203125 \nQ 43.203125 -1.296875 31.40625 -1.296875 \nQ 25.796875 -1.296875 19.5 0.703125 \nQ 18.09375 1.203125 15.640625 2.140625 \nQ 13.203125 3.09375 9.703125 4.703125 \nL 9.703125 13.09375 \nQ 14.5 10 18.796875 8.203125 \nQ 22 6.796875 25.203125 6.09375 \nQ 28.40625 5.40625 31.40625 5.40625 \nQ 39.5 5.40625 45.40625 10.40625 \nQ 51.90625 15.796875 51.90625 24 \nQ 51.90625 31.09375 47.203125 35.796875 \nQ 42.203125 40.796875 33.5 40.796875 \nQ 29 40.796875 24.796875 39.5 \nQ 20.59375 38.203125 17 35.5 \nL 9.703125 35.5 \nz\n\" id=\"AppleGothic-53\"/>\n        <path d=\"M 34.796875 -1.296875 \nQ 22.09375 -1.296875 14.59375 9 \nQ 7.203125 19.203125 7.203125 37.296875 \nQ 7.203125 55.5 15.203125 65.90625 \nQ 22.703125 75.90625 34.703125 75.90625 \nQ 47.296875 75.90625 54.40625 65.203125 \nQ 61.796875 54.59375 61.796875 37.40625 \nQ 61.796875 19.5 54.09375 9.09375 \nQ 46.5 -1.296875 34.796875 -1.296875 \nz\nM 34 5.40625 \nQ 44.703125 5.40625 50 15.5 \nQ 54.09375 24 54.09375 37.5 \nQ 54.09375 51.796875 49.40625 60.296875 \nQ 44.09375 69.203125 34.59375 69.203125 \nQ 24.59375 69.203125 19.5 59.703125 \nQ 15 51.296875 15 37.09375 \nQ 15 23.09375 19.5 14.703125 \nQ 24.59375 5.40625 34 5.40625 \nz\n\" id=\"AppleGothic-48\"/>\n       </defs>\n       <use xlink:href=\"#AppleGothic-45\"/>\n       <use x=\"49.999985\" xlink:href=\"#AppleGothic-49\"/>\n       <use x=\"117.999969\" xlink:href=\"#AppleGothic-53\"/>\n       <use x=\"185.999954\" xlink:href=\"#AppleGothic-48\"/>\n      </g>\n     </g>\n    </g>\n    <g id=\"xtick_2\">\n     <g id=\"line2d_2\">\n      <g>\n       <use style=\"stroke:#000000;stroke-width:0.8;\" x=\"201.223786\" xlink:href=\"#m565e0d2d8b\" y=\"558.640625\"/>\n      </g>\n     </g>\n     <g id=\"text_2\">\n      <!-- -100 -->\n      <g transform=\"translate(188.523786 573.48125)scale(0.1 -0.1)\">\n       <use xlink:href=\"#AppleGothic-45\"/>\n       <use x=\"49.999985\" xlink:href=\"#AppleGothic-49\"/>\n       <use x=\"117.999969\" xlink:href=\"#AppleGothic-48\"/>\n       <use x=\"185.999954\" xlink:href=\"#AppleGothic-48\"/>\n      </g>\n     </g>\n    </g>\n    <g id=\"xtick_3\">\n     <g id=\"line2d_3\">\n      <g>\n       <use style=\"stroke:#000000;stroke-width:0.8;\" x=\"344.052564\" xlink:href=\"#m565e0d2d8b\" y=\"558.640625\"/>\n      </g>\n     </g>\n     <g id=\"text_3\">\n      <!-- -50 -->\n      <g transform=\"translate(334.752564 573.48125)scale(0.1 -0.1)\">\n       <use xlink:href=\"#AppleGothic-45\"/>\n       <use x=\"49.999985\" xlink:href=\"#AppleGothic-53\"/>\n       <use x=\"117.999969\" xlink:href=\"#AppleGothic-48\"/>\n      </g>\n     </g>\n    </g>\n    <g id=\"xtick_4\">\n     <g id=\"line2d_4\">\n      <g>\n       <use style=\"stroke:#000000;stroke-width:0.8;\" x=\"486.881341\" xlink:href=\"#m565e0d2d8b\" y=\"558.640625\"/>\n      </g>\n     </g>\n     <g id=\"text_4\">\n      <!-- 0 -->\n      <g transform=\"translate(483.481341 573.48125)scale(0.1 -0.1)\">\n       <use xlink:href=\"#AppleGothic-48\"/>\n      </g>\n     </g>\n    </g>\n    <g id=\"xtick_5\">\n     <g id=\"line2d_5\">\n      <g>\n       <use style=\"stroke:#000000;stroke-width:0.8;\" x=\"629.710119\" xlink:href=\"#m565e0d2d8b\" y=\"558.640625\"/>\n      </g>\n     </g>\n     <g id=\"text_5\">\n      <!-- 50 -->\n      <g transform=\"translate(622.910119 573.48125)scale(0.1 -0.1)\">\n       <use xlink:href=\"#AppleGothic-53\"/>\n       <use x=\"67.999985\" xlink:href=\"#AppleGothic-48\"/>\n      </g>\n     </g>\n    </g>\n    <g id=\"xtick_6\">\n     <g id=\"line2d_6\">\n      <g>\n       <use style=\"stroke:#000000;stroke-width:0.8;\" x=\"772.538896\" xlink:href=\"#m565e0d2d8b\" y=\"558.640625\"/>\n      </g>\n     </g>\n     <g id=\"text_6\">\n      <!-- 100 -->\n      <g transform=\"translate(762.338896 573.48125)scale(0.1 -0.1)\">\n       <use xlink:href=\"#AppleGothic-49\"/>\n       <use x=\"67.999985\" xlink:href=\"#AppleGothic-48\"/>\n       <use x=\"135.999969\" xlink:href=\"#AppleGothic-48\"/>\n      </g>\n     </g>\n    </g>\n   </g>\n   <g id=\"matplotlib.axis_2\">\n    <g id=\"ytick_1\">\n     <g id=\"line2d_7\">\n      <defs>\n       <path d=\"M 0 0 \nL -3.5 0 \n\" id=\"maab1eac92f\" style=\"stroke:#000000;stroke-width:0.8;\"/>\n      </defs>\n      <g>\n       <use style=\"stroke:#000000;stroke-width:0.8;\" x=\"39.6\" xlink:href=\"#maab1eac92f\" y=\"485.280419\"/>\n      </g>\n     </g>\n     <g id=\"text_7\">\n      <!-- -100 -->\n      <g transform=\"translate(7.2 489.200732)scale(0.1 -0.1)\">\n       <use xlink:href=\"#AppleGothic-45\"/>\n       <use x=\"49.999985\" xlink:href=\"#AppleGothic-49\"/>\n       <use x=\"117.999969\" xlink:href=\"#AppleGothic-48\"/>\n       <use x=\"185.999954\" xlink:href=\"#AppleGothic-48\"/>\n      </g>\n     </g>\n    </g>\n    <g id=\"ytick_2\">\n     <g id=\"line2d_8\">\n      <g>\n       <use style=\"stroke:#000000;stroke-width:0.8;\" x=\"39.6\" xlink:href=\"#maab1eac92f\" y=\"396.623646\"/>\n      </g>\n     </g>\n     <g id=\"text_8\">\n      <!-- -50 -->\n      <g transform=\"translate(14 400.543958)scale(0.1 -0.1)\">\n       <use xlink:href=\"#AppleGothic-45\"/>\n       <use x=\"49.999985\" xlink:href=\"#AppleGothic-53\"/>\n       <use x=\"117.999969\" xlink:href=\"#AppleGothic-48\"/>\n      </g>\n     </g>\n    </g>\n    <g id=\"ytick_3\">\n     <g id=\"line2d_9\">\n      <g>\n       <use style=\"stroke:#000000;stroke-width:0.8;\" x=\"39.6\" xlink:href=\"#maab1eac92f\" y=\"307.966873\"/>\n      </g>\n     </g>\n     <g id=\"text_9\">\n      <!-- 0 -->\n      <g transform=\"translate(25.8 311.887185)scale(0.1 -0.1)\">\n       <use xlink:href=\"#AppleGothic-48\"/>\n      </g>\n     </g>\n    </g>\n    <g id=\"ytick_4\">\n     <g id=\"line2d_10\">\n      <g>\n       <use style=\"stroke:#000000;stroke-width:0.8;\" x=\"39.6\" xlink:href=\"#maab1eac92f\" y=\"219.3101\"/>\n      </g>\n     </g>\n     <g id=\"text_10\">\n      <!-- 50 -->\n      <g transform=\"translate(19 223.230412)scale(0.1 -0.1)\">\n       <use xlink:href=\"#AppleGothic-53\"/>\n       <use x=\"67.999985\" xlink:href=\"#AppleGothic-48\"/>\n      </g>\n     </g>\n    </g>\n    <g id=\"ytick_5\">\n     <g id=\"line2d_11\">\n      <g>\n       <use style=\"stroke:#000000;stroke-width:0.8;\" x=\"39.6\" xlink:href=\"#maab1eac92f\" y=\"130.653327\"/>\n      </g>\n     </g>\n     <g id=\"text_11\">\n      <!-- 100 -->\n      <g transform=\"translate(12.2 134.573639)scale(0.1 -0.1)\">\n       <use xlink:href=\"#AppleGothic-49\"/>\n       <use x=\"67.999985\" xlink:href=\"#AppleGothic-48\"/>\n       <use x=\"135.999969\" xlink:href=\"#AppleGothic-48\"/>\n      </g>\n     </g>\n    </g>\n    <g id=\"ytick_6\">\n     <g id=\"line2d_12\">\n      <g>\n       <use style=\"stroke:#000000;stroke-width:0.8;\" x=\"39.6\" xlink:href=\"#maab1eac92f\" y=\"41.996553\"/>\n      </g>\n     </g>\n     <g id=\"text_12\">\n      <!-- 150 -->\n      <g transform=\"translate(12.2 45.916866)scale(0.1 -0.1)\">\n       <use xlink:href=\"#AppleGothic-49\"/>\n       <use x=\"67.999985\" xlink:href=\"#AppleGothic-53\"/>\n       <use x=\"135.999969\" xlink:href=\"#AppleGothic-48\"/>\n      </g>\n     </g>\n    </g>\n   </g>\n   <g id=\"patch_3\">\n    <path d=\"M 39.6 558.640625 \nL 39.6 15.040625 \n\" style=\"fill:none;stroke:#000000;stroke-linecap:square;stroke-linejoin:miter;stroke-width:0.8;\"/>\n   </g>\n   <g id=\"patch_4\">\n    <path d=\"M 876.6 558.640625 \nL 876.6 15.040625 \n\" style=\"fill:none;stroke:#000000;stroke-linecap:square;stroke-linejoin:miter;stroke-width:0.8;\"/>\n   </g>\n   <g id=\"patch_5\">\n    <path d=\"M 39.6 558.640625 \nL 876.6 558.640625 \n\" style=\"fill:none;stroke:#000000;stroke-linecap:square;stroke-linejoin:miter;stroke-width:0.8;\"/>\n   </g>\n   <g id=\"patch_6\">\n    <path d=\"M 39.6 15.040625 \nL 876.6 15.040625 \n\" style=\"fill:none;stroke:#000000;stroke-linecap:square;stroke-linejoin:miter;stroke-width:0.8;\"/>\n   </g>\n   <g id=\"text_13\">\n    <!-- 3 -->\n    <g style=\"fill:#008000;\" transform=\"translate(467.030486 369.224582)scale(0.1 -0.1)\">\n     <defs>\n      <path d=\"M 8.59375 5.203125 \nL 8.59375 13.59375 \nQ 13.796875 9.703125 19.296875 7.546875 \nQ 24.796875 5.40625 30.796875 5.40625 \nQ 39.40625 5.40625 44.703125 10.40625 \nQ 50.296875 15.5 50.296875 22.203125 \nQ 50.296875 29.203125 44.40625 32.796875 \nQ 39.296875 36 30.703125 36 \nL 15.5 36 \nL 15.5 42.203125 \nL 25.90625 42.203125 \nQ 35.90625 42.203125 41.59375 45.75 \nQ 47.296875 49.296875 47.296875 56 \nQ 47.296875 61.5 43 65.203125 \nQ 38.40625 69.203125 30.90625 69.203125 \nQ 27.90625 69.203125 24.953125 68.640625 \nQ 22 68.09375 19.09375 66.90625 \nQ 13.90625 64.703125 8.296875 60.5 \nL 8.296875 69.09375 \nQ 11.5 70.796875 14.25 72 \nQ 17 73.203125 19.59375 74 \nQ 25.40625 75.90625 31.59375 75.90625 \nQ 41.40625 75.90625 47.90625 70.796875 \nQ 54.5 65.796875 54.5 56.90625 \nQ 54.5 49.5 49.5 44.703125 \nQ 46.5 41.796875 41.296875 39.90625 \nQ 44.90625 39.40625 47.703125 38.25 \nQ 50.5 37.09375 52.59375 35.40625 \nQ 58.09375 30.796875 58.09375 22.40625 \nQ 58.09375 12.703125 50.296875 5.703125 \nQ 42.40625 -1.296875 30.703125 -1.296875 \nQ 24.203125 -1.296875 17.59375 1.09375 \nQ 16 1.59375 13.75 2.59375 \nQ 11.5 3.59375 8.59375 5.203125 \nz\n\" id=\"AppleGothic-51\"/>\n     </defs>\n     <use xlink:href=\"#AppleGothic-51\"/>\n    </g>\n   </g>\n   <g id=\"text_14\">\n    <!-- 3 -->\n    <g style=\"fill:#008000;\" transform=\"translate(334.071657 240.378015)scale(0.1 -0.1)\">\n     <use xlink:href=\"#AppleGothic-51\"/>\n    </g>\n   </g>\n   <g id=\"text_15\">\n    <!-- 2 -->\n    <g style=\"fill:#ff0000;\" transform=\"translate(39.6 308.586921)scale(0.1 -0.1)\">\n     <defs>\n      <path d=\"M 17.203125 6.703125 \nL 61.59375 6.703125 \nL 61.59375 0 \nL 10.203125 0 \nL 10.203125 3.203125 \nQ 10.203125 15.90625 21 26 \nQ 26.09375 29.59375 31.09375 33.1875 \nQ 36.09375 36.796875 41.203125 40.5 \nQ 52.09375 48.40625 52.09375 56.203125 \nQ 52.09375 62.40625 47.09375 65.90625 \nQ 44.796875 67.59375 42.09375 68.390625 \nQ 39.40625 69.203125 36.203125 69.203125 \nQ 31.5 69.203125 27.203125 68 \nQ 20.703125 66 13.796875 61.09375 \nL 13.796875 69.296875 \nQ 20.703125 72.796875 26.046875 74.34375 \nQ 31.40625 75.90625 36.203125 75.90625 \nQ 46.296875 75.90625 53.203125 70.703125 \nQ 60 65.59375 60 56.59375 \nQ 60 46.796875 49.5 38.09375 \nQ 44.5 34.59375 39.546875 31.25 \nQ 34.59375 27.90625 29.59375 24.40625 \nQ 18.40625 16 17.203125 6.703125 \nz\n\" id=\"AppleGothic-50\"/>\n     </defs>\n     <use xlink:href=\"#AppleGothic-50\"/>\n    </g>\n   </g>\n   <g id=\"text_16\">\n    <!-- 3 -->\n    <g style=\"fill:#008000;\" transform=\"translate(352.7965 172.362743)scale(0.1 -0.1)\">\n     <use xlink:href=\"#AppleGothic-51\"/>\n    </g>\n   </g>\n   <g id=\"text_17\">\n    <!-- 3 -->\n    <g style=\"fill:#008000;\" transform=\"translate(648.237105 402.453381)scale(0.1 -0.1)\">\n     <use xlink:href=\"#AppleGothic-51\"/>\n    </g>\n   </g>\n   <g id=\"text_18\">\n    <!-- 3 -->\n    <g style=\"fill:#008000;\" transform=\"translate(401.994678 282.71053)scale(0.1 -0.1)\">\n     <use xlink:href=\"#AppleGothic-51\"/>\n    </g>\n   </g>\n   <g id=\"text_19\">\n    <!-- 3 -->\n    <g style=\"fill:#008000;\" transform=\"translate(128.43117 236.03254)scale(0.1 -0.1)\">\n     <use xlink:href=\"#AppleGothic-51\"/>\n    </g>\n   </g>\n   <g id=\"text_20\">\n    <!-- 2 -->\n    <g style=\"fill:#ff0000;\" transform=\"translate(876.6 268.810938)scale(0.1 -0.1)\">\n     <use xlink:href=\"#AppleGothic-50\"/>\n    </g>\n   </g>\n   <g id=\"text_21\">\n    <!-- 3 -->\n    <g style=\"fill:#008000;\" transform=\"translate(801.552082 446.27896)scale(0.1 -0.1)\">\n     <use xlink:href=\"#AppleGothic-51\"/>\n    </g>\n   </g>\n   <g id=\"text_22\">\n    <!-- 3 -->\n    <g style=\"fill:#008000;\" transform=\"translate(150.353631 109.575225)scale(0.1 -0.1)\">\n     <use xlink:href=\"#AppleGothic-51\"/>\n    </g>\n   </g>\n   <g id=\"text_23\">\n    <!-- 3 -->\n    <g style=\"fill:#008000;\" transform=\"translate(455.843804 320.466426)scale(0.1 -0.1)\">\n     <use xlink:href=\"#AppleGothic-51\"/>\n    </g>\n   </g>\n   <g id=\"text_24\">\n    <!-- 3 -->\n    <g style=\"fill:#008000;\" transform=\"translate(514.803876 507.394505)scale(0.1 -0.1)\">\n     <use xlink:href=\"#AppleGothic-51\"/>\n    </g>\n   </g>\n   <g id=\"text_25\">\n    <!-- 3 -->\n    <g style=\"fill:#008000;\" transform=\"translate(698.339482 220.710601)scale(0.1 -0.1)\">\n     <use xlink:href=\"#AppleGothic-51\"/>\n    </g>\n   </g>\n   <g id=\"text_26\">\n    <!-- 3 -->\n    <g style=\"fill:#008000;\" transform=\"translate(392.207847 558.640625)scale(0.1 -0.1)\">\n     <use xlink:href=\"#AppleGothic-51\"/>\n    </g>\n   </g>\n   <g id=\"text_27\">\n    <!-- 4 -->\n    <g style=\"fill:#800080;\" transform=\"translate(725.450339 273.626006)scale(0.1 -0.1)\">\n     <defs>\n      <path d=\"M 41.59375 74.59375 \nL 48.90625 74.59375 \nL 48.90625 28.296875 \nL 62.5 28.296875 \nL 62.5 21.59375 \nL 48.90625 21.59375 \nL 48.90625 0 \nL 41.59375 0 \nL 41.59375 21.59375 \nL 5.5 21.59375 \nL 5.5 28.296875 \nz\nM 41.59375 28.296875 \nL 41.59375 65.09375 \nL 13.09375 28.296875 \nz\n\" id=\"AppleGothic-52\"/>\n     </defs>\n     <use xlink:href=\"#AppleGothic-52\"/>\n    </g>\n   </g>\n   <g id=\"text_28\">\n    <!-- 2 -->\n    <g style=\"fill:#ff0000;\" transform=\"translate(237.786022 190.408284)scale(0.1 -0.1)\">\n     <use xlink:href=\"#AppleGothic-50\"/>\n    </g>\n   </g>\n   <g id=\"text_29\">\n    <!-- 3 -->\n    <g style=\"fill:#008000;\" transform=\"translate(223.842367 298.25207)scale(0.1 -0.1)\">\n     <use xlink:href=\"#AppleGothic-51\"/>\n    </g>\n   </g>\n   <g id=\"text_30\">\n    <!-- 3 -->\n    <g style=\"fill:#008000;\" transform=\"translate(245.570862 394.349699)scale(0.1 -0.1)\">\n     <use xlink:href=\"#AppleGothic-51\"/>\n    </g>\n   </g>\n   <g id=\"text_31\">\n    <!-- 3 -->\n    <g style=\"fill:#008000;\" transform=\"translate(430.641518 238.329166)scale(0.1 -0.1)\">\n     <use xlink:href=\"#AppleGothic-51\"/>\n    </g>\n   </g>\n   <g id=\"text_32\">\n    <!-- 2 -->\n    <g style=\"fill:#ff0000;\" transform=\"translate(104.094158 403.519471)scale(0.1 -0.1)\">\n     <use xlink:href=\"#AppleGothic-50\"/>\n    </g>\n   </g>\n   <g id=\"text_33\">\n    <!-- 3 -->\n    <g style=\"fill:#008000;\" transform=\"translate(835.568655 354.546878)scale(0.1 -0.1)\">\n     <use xlink:href=\"#AppleGothic-51\"/>\n    </g>\n   </g>\n   <g id=\"text_34\">\n    <!-- 3 -->\n    <g style=\"fill:#008000;\" transform=\"translate(869.515051 174.877156)scale(0.1 -0.1)\">\n     <use xlink:href=\"#AppleGothic-51\"/>\n    </g>\n   </g>\n   <g id=\"text_35\">\n    <!-- 3 -->\n    <g style=\"fill:#008000;\" transform=\"translate(335.035494 298.556936)scale(0.1 -0.1)\">\n     <use xlink:href=\"#AppleGothic-51\"/>\n    </g>\n   </g>\n   <g id=\"text_36\">\n    <!-- 3 -->\n    <g style=\"fill:#008000;\" transform=\"translate(668.364399 500.16878)scale(0.1 -0.1)\">\n     <use xlink:href=\"#AppleGothic-51\"/>\n    </g>\n   </g>\n   <g id=\"text_37\">\n    <!-- 3 -->\n    <g style=\"fill:#008000;\" transform=\"translate(568.171933 268.708397)scale(0.1 -0.1)\">\n     <use xlink:href=\"#AppleGothic-51\"/>\n    </g>\n   </g>\n   <g id=\"text_38\">\n    <!-- 3 -->\n    <g style=\"fill:#008000;\" transform=\"translate(440.489116 186.155421)scale(0.1 -0.1)\">\n     <use xlink:href=\"#AppleGothic-51\"/>\n    </g>\n   </g>\n   <g id=\"text_39\">\n    <!-- 3 -->\n    <g style=\"fill:#008000;\" transform=\"translate(316.160012 105.552067)scale(0.1 -0.1)\">\n     <use xlink:href=\"#AppleGothic-51\"/>\n    </g>\n   </g>\n   <g id=\"text_40\">\n    <!-- 3 -->\n    <g style=\"fill:#008000;\" transform=\"translate(345.304713 461.191645)scale(0.1 -0.1)\">\n     <use xlink:href=\"#AppleGothic-51\"/>\n    </g>\n   </g>\n   <g id=\"text_41\">\n    <!-- 3 -->\n    <g style=\"fill:#008000;\" transform=\"translate(529.340037 320.8453)scale(0.1 -0.1)\">\n     <use xlink:href=\"#AppleGothic-51\"/>\n    </g>\n   </g>\n   <g id=\"text_42\">\n    <!-- 3 -->\n    <g style=\"fill:#008000;\" transform=\"translate(366.743065 393.307445)scale(0.1 -0.1)\">\n     <use xlink:href=\"#AppleGothic-51\"/>\n    </g>\n   </g>\n   <g id=\"text_43\">\n    <!-- 3 -->\n    <g style=\"fill:#008000;\" transform=\"translate(207.526594 496.268902)scale(0.1 -0.1)\">\n     <use xlink:href=\"#AppleGothic-51\"/>\n    </g>\n   </g>\n   <g id=\"text_44\">\n    <!-- 3 -->\n    <g style=\"fill:#008000;\" transform=\"translate(527.279148 223.568685)scale(0.1 -0.1)\">\n     <use xlink:href=\"#AppleGothic-51\"/>\n    </g>\n   </g>\n   <g id=\"text_45\">\n    <!-- 3 -->\n    <g style=\"fill:#008000;\" transform=\"translate(307.201263 345.098173)scale(0.1 -0.1)\">\n     <use xlink:href=\"#AppleGothic-51\"/>\n    </g>\n   </g>\n   <g id=\"text_46\">\n    <!-- 3 -->\n    <g style=\"fill:#008000;\" transform=\"translate(712.960972 350.159771)scale(0.1 -0.1)\">\n     <use xlink:href=\"#AppleGothic-51\"/>\n    </g>\n   </g>\n   <g id=\"text_47\">\n    <!-- 0 -->\n    <g style=\"fill:#0000ff;\" transform=\"translate(608.223047 338.34588)scale(0.1 -0.1)\">\n     <use xlink:href=\"#AppleGothic-48\"/>\n    </g>\n   </g>\n   <g id=\"text_48\">\n    <!-- 3 -->\n    <g style=\"fill:#008000;\" transform=\"translate(652.949751 240.254802)scale(0.1 -0.1)\">\n     <use xlink:href=\"#AppleGothic-51\"/>\n    </g>\n   </g>\n   <g id=\"text_49\">\n    <!-- 3 -->\n    <g style=\"fill:#008000;\" transform=\"translate(722.702428 147.260022)scale(0.1 -0.1)\">\n     <use xlink:href=\"#AppleGothic-51\"/>\n    </g>\n   </g>\n   <g id=\"text_50\">\n    <!-- 1 -->\n    <g style=\"fill:#ffff00;\" transform=\"translate(516.753077 38.791241)scale(0.1 -0.1)\">\n     <use xlink:href=\"#AppleGothic-49\"/>\n    </g>\n   </g>\n   <g id=\"text_51\">\n    <!-- 3 -->\n    <g style=\"fill:#008000;\" transform=\"translate(648.228758 289.718291)scale(0.1 -0.1)\">\n     <use xlink:href=\"#AppleGothic-51\"/>\n    </g>\n   </g>\n   <g id=\"text_52\">\n    <!-- 3 -->\n    <g style=\"fill:#008000;\" transform=\"translate(369.447224 15.040625)scale(0.1 -0.1)\">\n     <use xlink:href=\"#AppleGothic-51\"/>\n    </g>\n   </g>\n   <g id=\"text_53\">\n    <!-- 3 -->\n    <g style=\"fill:#008000;\" transform=\"translate(552.534185 376.70769)scale(0.1 -0.1)\">\n     <use xlink:href=\"#AppleGothic-51\"/>\n    </g>\n   </g>\n   <g id=\"text_54\">\n    <!-- 3 -->\n    <g style=\"fill:#008000;\" transform=\"translate(598.908773 123.082315)scale(0.1 -0.1)\">\n     <use xlink:href=\"#AppleGothic-51\"/>\n    </g>\n   </g>\n   <g id=\"text_55\">\n    <!-- 2 -->\n    <g style=\"fill:#ff0000;\" transform=\"translate(691.893335 57.513112)scale(0.1 -0.1)\">\n     <use xlink:href=\"#AppleGothic-50\"/>\n    </g>\n   </g>\n   <g id=\"text_56\">\n    <!-- 3 -->\n    <g style=\"fill:#008000;\" transform=\"translate(484.719866 275.735778)scale(0.1 -0.1)\">\n     <use xlink:href=\"#AppleGothic-51\"/>\n    </g>\n   </g>\n   <g id=\"text_57\">\n    <!-- 3 -->\n    <g style=\"fill:#008000;\" transform=\"translate(450.766033 425.826283)scale(0.1 -0.1)\">\n     <use xlink:href=\"#AppleGothic-51\"/>\n    </g>\n   </g>\n   <g id=\"text_58\">\n    <!-- 3 -->\n    <g style=\"fill:#008000;\" transform=\"translate(392.252677 342.739295)scale(0.1 -0.1)\">\n     <use xlink:href=\"#AppleGothic-51\"/>\n    </g>\n   </g>\n   <g id=\"text_59\">\n    <!-- 3 -->\n    <g style=\"fill:#008000;\" transform=\"translate(515.505962 161.327615)scale(0.1 -0.1)\">\n     <use xlink:href=\"#AppleGothic-51\"/>\n    </g>\n   </g>\n   <g id=\"text_60\">\n    <!-- 2 -->\n    <g style=\"fill:#ff0000;\" transform=\"translate(457.137037 109.46899)scale(0.1 -0.1)\">\n     <use xlink:href=\"#AppleGothic-50\"/>\n    </g>\n   </g>\n   <g id=\"text_61\">\n    <!-- 3 -->\n    <g style=\"fill:#008000;\" transform=\"translate(549.827787 433.433144)scale(0.1 -0.1)\">\n     <use xlink:href=\"#AppleGothic-51\"/>\n    </g>\n   </g>\n   <g id=\"text_62\">\n    <!-- 3 -->\n    <g style=\"fill:#008000;\" transform=\"translate(608.970263 184.627831)scale(0.1 -0.1)\">\n     <use xlink:href=\"#AppleGothic-51\"/>\n    </g>\n   </g>\n  </g>\n </g>\n</svg>\n",
      "image/png": "[encoded data removed]"
     },
     "metadata": {
      "needs_background": "light"
     }
    }
   ],
   "source": [
    "colors = {0:\"blue\", 1:'yellow', 2:'red', 3:'green', 4:'purple'}\n",
    "x1  = tsne_review[:,0]\n",
    "x2  = tsne_review[:,1]\n",
    "plt.scatter(x1, x2)\n",
    "\n",
    "plt.figure(figsize=(15,10))\n",
    "plt.xlim(min(x1), max(x1))\n",
    "plt.ylim(min(x2), max(x2))\n",
    "for i in range(len(x1)):\n",
    "    plt.text(x1[i], x2[i], kmeans.labels_[i],\n",
    "            color = colors[kmeans.labels_[i]])\n",
    "\n",
    "plt.show()"
   ]
  },
  {
   "source": [
    "#### 최적의 결과를 찾기 위한 방법 - perplexity"
   ],
   "cell_type": "markdown",
   "metadata": {}
  },
  {
   "cell_type": "code",
   "execution_count": 32,
   "metadata": {},
   "outputs": [
    {
     "output_type": "execute_result",
     "data": {
      "text/plain": [
       "580.7734310430878"
      ]
     },
     "metadata": {},
     "execution_count": 32
    }
   ],
   "source": [
    "lda.perplexity(review_cv)"
   ]
  },
  {
   "cell_type": "code",
   "execution_count": 33,
   "metadata": {},
   "outputs": [
    {
     "output_type": "stream",
     "name": "stdout",
     "text": [
      "Topic #0: 영화, 공포, 아주, 디즈니, 감동, 자극, 갈수록, 제발, 머리, 노력\nTopic #1: 영화, 노스, 히어로, 다음, 지루함, 뮤지컬, 절대, 상영, 진짜, 스토리\nTopic #2: 윤계상, 마동석, 연기, 영화, 액션, 악역, 형사, 배우, 존재, 평가\nTopic #3: 하정우, 연기, 영화, 모두, 주지훈, 진심, 배우, 누구, 거의, 시대\nTopic #4: 영화, 계속, 웃음, 세계, 감동, 개인, 우리, 사람, 해도, 오늘\nTopic #5: 영화, 평점, 기억, 매우, 코코, 어른, 공감, 또한, 여기, 감동\nTopic #6: 영화, 한국, 생각, 장면, 흥행, 가지, 여자, 스크린, 보고, 배우\nTopic #7: 마블, 영화, 어벤져스, 완전, 시간, 대사, 시리즈, 부분, 사람, 진짜\nTopic #8: 차태현, 영화, 신파, 눈물, 연기, 혼자, 진짜, 정말, 배우, 액션\nTopic #9: 영화, 보고, 범죄, 아들, 추천, 연기, 정말, 도시, 연기자, 관람\nTopic #10: 영화, 감동, 등장, 쓰레기, 천만, 느낌, 전반, 생각, 기대, 그냥\nTopic #11: 사랑, 영화, 인생, 이야기, 음악, 최고, 완성, 마지막, 올해, 비교\nTopic #12: 영화, 실망, 스토리, 그래픽, 감동, 재미, 아이, 실화, 개연, 초딩\nTopic #13: 영화, 이해, 사람, 편이, 인간, 마지막, 토르, 감정, 진짜, 뭔가\nTopic #14: 영화, 스토리, 중간, 전개, 화면, 구성, 전체, 극장, 드라마, 설정\nTopic #15: 영화, 중국, 남자, 다만, 스톤, 볼거리, 노래, 현실, 시나리오, 유머\nTopic #16: 영화, 내용, 교훈, 부모님, 배우, 조선족, 감성, 연기, 모든, 영상\nTopic #17: 영화, 공포영화, 귀신, 약간, 다큐, 상황, 관객, 다소, 누가, 기술\nTopic #18: 영화, 감독, 강철, 이제, 댓글, 제일, 알바, 웹툰, 인정, 그냥\nTopic #19: 광주, 송강호, 택시, 시민, 역사, 진실, 민주화, 기자, 운전사, 모습\nTopic #20: 영화, 역사, 대한민국, 국민, 점수, 보지, 후회, 개봉, 내내, 사람\nTopic #21: 영화, 감동, 정말, 엄마, 연기, 다른, 재미, 생각, 오락, 언제\nTopic #22: 영화, 생각, 얘기, 조폭, 오히려, 화가, 경찰, 감동, 최고, 마동석\nTopic #23: 하나, 영화, 사람, 원작, 보고, 지옥, 억지, 진짜, 세상, 화보\nTopic #24: 영화, 전혀, 만화, 반전, 원작, 저승, 재미, 정말, 판타지, 연기\n\n"
     ]
    },
    {
     "output_type": "execute_result",
     "data": {
      "text/plain": [
       "557.823404029721"
      ]
     },
     "metadata": {},
     "execution_count": 33
    }
   ],
   "source": [
    "# topic modeling 수행\n",
    "lda = LatentDirichletAllocation(n_components = 25, max_iter=25, \n",
    "                                topic_word_prior= 0.1, doc_topic_prior=2.0,\n",
    "                                learning_method='batch',\n",
    "                                n_jobs= -1,\n",
    "                                random_state=0)\n",
    "                                \n",
    "review_topics = lda.fit_transform(review_cv)\n",
    "print_top_words(lda,vec.get_feature_names(), 10)\n",
    "lda.perplexity(review_cv)"
   ]
  },
  {
   "cell_type": "code",
   "execution_count": 35,
   "metadata": {},
   "outputs": [
    {
     "output_type": "stream",
     "name": "stdout",
     "text": [
      "Topic #0: 영화, 감동, 보고, 재미, 가족, 한국, 처음, 공포영화, 공포, 추천\nTopic #1: 영화, 최고, 평점, 마블, 음악, 사랑, 인생, 하나, 노스, 스토리\nTopic #2: 연기, 정말, 배우, 진짜, 마동석, 영화, 윤계상, 기대, 감독, 액션\nTopic #3: 사람, 마지막, 광주, 시간, 역사, 우리, 가슴, 장면, 송강호, 차태현\nTopic #4: 생각, 눈물, 스토리, 정도, 내용, 원작, 느낌, 신파, 중간, 영화\n\n"
     ]
    },
    {
     "output_type": "execute_result",
     "data": {
      "text/plain": [
       "405.645778754824"
      ]
     },
     "metadata": {},
     "execution_count": 35
    }
   ],
   "source": [
    "#topic modeling 수행\n",
    "lda = LatentDirichletAllocation(n_components = 5, max_iter=25, \n",
    "                                topic_word_prior= 0.1, doc_topic_prior=1.0,\n",
    "                                learning_method='batch',\n",
    "                                n_jobs= -1,\n",
    "                                random_state=0)\n",
    "review_topics = lda.fit_transform(review_cv)\n",
    "print_top_words(lda,vec.get_feature_names(), 10)\n",
    "lda.perplexity(review_cv)"
   ]
  },
  {
   "cell_type": "code",
   "execution_count": null,
   "metadata": {},
   "outputs": [],
   "source": []
  }
 ]
}